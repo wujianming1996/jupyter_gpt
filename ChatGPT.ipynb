class ai_assistant:
    def __init__(self,openai,api_key,Preconditions="You are a knowledgable and helpful assistant."):
        """
        1、载入模型对象。
        2、api_key: openai的api密钥。
        3、Preconditions：让他扮演的角色。
        
        """
        self.openai = openai
        self.api_key = api_key
        self.Preconditions = Preconditions
        self.messages = None
        self.chat = None
        self.leading_in()
        self.run()
    def leading_in(self):
        self.openai.api_key = self.api_key
        self.messages = [{"role": "system", "content":self.Preconditions},]
    def run(self):
        print('欢迎使用ChatGPT的API，请在下方提示框中输入你的问题，若要结束请输入“结束会话”')
        while True:
            
            self.message = input("你的问题 : ")
            if self.message !="结束会话":
                try:
                    self.messages.append({"role": "user", "content": self.message},)
                    self.chat = self.openai.ChatCompletion.create(model="gpt-3.5-turbo", messages=self.messages)
                except:
                    print('您的token过长，已自动重置，Ai助手将不记得之前说过的话，如要让他记得什么请重新描述。')
                    self.messages = [{"role": "system", "content":self.Preconditions},]
                    self.messages.append({"role": "user", "content": self.message},)
                    self.chat = self.openai.ChatCompletion.create(model="gpt-3.5-turbo", messages=self.messages)
                self.reply = self.chat.choices[0].message.content
                print(f"ChatGPT回答: {self.reply}")
                self.messages.append({"role": "assistant", "content": self.reply})
                
            else:
                print(' ChatGPT回答: 好的，如果您需要再次使用我的服务，随时欢迎回来！')
                break
chat_bot = ai_assistant(openai=ai,api_key='you_key_XXXX')
